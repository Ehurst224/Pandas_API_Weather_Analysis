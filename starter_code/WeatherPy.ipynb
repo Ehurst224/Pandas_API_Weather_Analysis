{
 "cells": [
  {
   "cell_type": "markdown",
   "metadata": {},
   "source": [
    "# WeatherPy\n",
    "----\n",
    "\n",
    "#### Note\n",
    "* Instructions have been included for each segment. You do not have to follow them exactly, but they are included to help you think through the steps."
   ]
  },
  {
   "cell_type": "code",
   "execution_count": 45,
   "metadata": {
    "scrolled": true
   },
   "outputs": [],
   "source": [
    "# Dependencies and Setup\n",
    "import matplotlib.pyplot as plt\n",
    "import pandas as pd\n",
    "import numpy as np\n",
    "import requests\n",
    "import time\n",
    "from scipy.stats import linregress\n",
    "import json\n",
    "\n",
    "# Import API key\n",
    "from api_keys import weather_api_key\n",
    "\n",
    "# Incorporated citipy to determine city based on latitude and longitude\n",
    "from citipy import citipy\n",
    "\n",
    "# Output File (CSV)\n",
    "output_data_file = \"output_data/cities.csv\"\n",
    "\n",
    "# Range of latitudes and longitudes\n",
    "lat_range = (-90, 90)\n",
    "lng_range = (-180, 180)"
   ]
  },
  {
   "cell_type": "markdown",
   "metadata": {},
   "source": [
    "## Generate Cities List"
   ]
  },
  {
   "cell_type": "code",
   "execution_count": 13,
   "metadata": {},
   "outputs": [
    {
     "data": {
      "text/plain": [
       "597"
      ]
     },
     "execution_count": 13,
     "metadata": {},
     "output_type": "execute_result"
    }
   ],
   "source": [
    "# List for holding lat_lngs and cities\n",
    "lat_lngs = []\n",
    "cities = []\n",
    "\n",
    "# Create a set of random lat and lng combinations\n",
    "lats = np.random.uniform(lat_range[0], lat_range[1], size=1500)\n",
    "lngs = np.random.uniform(lng_range[0], lng_range[1], size=1500)\n",
    "lat_lngs = zip(lats, lngs)\n",
    "\n",
    "# Identify nearest city for each lat, lng combination\n",
    "for lat_lng in lat_lngs:\n",
    "    city = citipy.nearest_city(lat_lng[0], lat_lng[1]).city_name\n",
    "    \n",
    "    # If the city is unique, then add it to a our cities list\n",
    "    if city not in cities:\n",
    "        cities.append(city)\n",
    "\n",
    "# Print the city count to confirm sufficient count\n",
    "len(cities)"
   ]
  },
  {
   "cell_type": "code",
   "execution_count": 14,
   "metadata": {},
   "outputs": [],
   "source": [
    "# cities"
   ]
  },
  {
   "cell_type": "markdown",
   "metadata": {},
   "source": [
    "### Perform API Calls\n",
    "* Perform a weather check on each city using a series of successive API calls.\n",
    "* Include a print log of each city as it'sbeing processed (with the city number and city name).\n"
   ]
  },
  {
   "cell_type": "code",
   "execution_count": 15,
   "metadata": {
    "scrolled": true
   },
   "outputs": [],
   "source": [
    "# Save config information.\n",
    "url = \"http://api.openweathermap.org/data/2.5/weather?\"\n",
    "units = \"imperial\"\n",
    "\n",
    "# Build partial query URL\n",
    "city_url = f\"{url}appid={weather_api_key}&units={units}&q=\""
   ]
  },
  {
   "cell_type": "code",
   "execution_count": 16,
   "metadata": {},
   "outputs": [
    {
     "name": "stdout",
     "output_type": "stream",
     "text": [
      "{\n",
      "    \"coord\": {\n",
      "        \"lon\": 128.8694,\n",
      "        \"lat\": 71.6872\n",
      "    },\n",
      "    \"weather\": [\n",
      "        {\n",
      "            \"id\": 804,\n",
      "            \"main\": \"Clouds\",\n",
      "            \"description\": \"overcast clouds\",\n",
      "            \"icon\": \"04n\"\n",
      "        }\n",
      "    ],\n",
      "    \"base\": \"stations\",\n",
      "    \"main\": {\n",
      "        \"temp\": -21.73,\n",
      "        \"feels_like\": -34.33,\n",
      "        \"temp_min\": -21.73,\n",
      "        \"temp_max\": -21.73,\n",
      "        \"pressure\": 1019,\n",
      "        \"humidity\": 99,\n",
      "        \"sea_level\": 1019,\n",
      "        \"grnd_level\": 1013\n",
      "    },\n",
      "    \"visibility\": 6563,\n",
      "    \"wind\": {\n",
      "        \"speed\": 6.29,\n",
      "        \"deg\": 252,\n",
      "        \"gust\": 6.02\n",
      "    },\n",
      "    \"clouds\": {\n",
      "        \"all\": 98\n",
      "    },\n",
      "    \"dt\": 1638240300,\n",
      "    \"sys\": {\n",
      "        \"country\": \"RU\",\n",
      "        \"sunrise\": 0,\n",
      "        \"sunset\": 0\n",
      "    },\n",
      "    \"timezone\": 32400,\n",
      "    \"id\": 2015306,\n",
      "    \"name\": \"Tiksi\",\n",
      "    \"cod\": 200\n",
      "}\n"
     ]
    }
   ],
   "source": [
    "# Request\n",
    "request = requests.get(city_url + city)\n",
    "json_request = request.json()\n",
    "print(json.dumps(json_request, indent=4))"
   ]
  },
  {
   "cell_type": "code",
   "execution_count": 18,
   "metadata": {},
   "outputs": [
    {
     "name": "stdout",
     "output_type": "stream",
     "text": [
      "Beginning Data Retrieval\n",
      "------------------------\n",
      "Processing Record 1 of Set 1 : bluff\n",
      "City not found. Skipping...\n",
      "Processing Record 2 of Set 1 : castro\n",
      "Processing Record 3 of Set 1 : tasiilaq\n",
      "Processing Record 4 of Set 1 : tutoia\n",
      "City not found. Skipping...\n",
      "Processing Record 5 of Set 1 : atuona\n",
      "Processing Record 6 of Set 1 : rikitea\n",
      "Processing Record 7 of Set 1 : lebu\n",
      "Processing Record 8 of Set 1 : buala\n",
      "Processing Record 9 of Set 1 : atar\n",
      "City not found. Skipping...\n",
      "Processing Record 10 of Set 1 : qaanaaq\n",
      "Processing Record 11 of Set 1 : mataura\n",
      "Processing Record 12 of Set 1 : port elizabeth\n",
      "Processing Record 13 of Set 1 : barrow\n",
      "Processing Record 14 of Set 1 : miragoane\n",
      "Processing Record 15 of Set 1 : chichimila\n",
      "Processing Record 16 of Set 1 : ushuaia\n",
      "Processing Record 17 of Set 1 : nyurba\n",
      "Processing Record 18 of Set 1 : tuatapere\n",
      "Processing Record 19 of Set 1 : vao\n",
      "Processing Record 20 of Set 1 : hobart\n",
      "Processing Record 21 of Set 1 : kapaa\n",
      "Processing Record 22 of Set 1 : kathmandu\n",
      "Processing Record 23 of Set 1 : pevek\n",
      "City not found. Skipping...\n",
      "Processing Record 24 of Set 1 : abeokuta\n",
      "City not found. Skipping...\n",
      "Processing Record 25 of Set 1 : zyryanka\n",
      "Processing Record 26 of Set 1 : east london\n",
      "Processing Record 27 of Set 1 : thompson\n",
      "Processing Record 28 of Set 1 : vardo\n",
      "Processing Record 29 of Set 1 : clyde river\n",
      "Processing Record 30 of Set 1 : bara\n",
      "Processing Record 31 of Set 1 : upernavik\n",
      "Processing Record 32 of Set 1 : busselton\n",
      "Processing Record 33 of Set 1 : chokurdakh\n",
      "Processing Record 34 of Set 1 : victoria\n",
      "Processing Record 35 of Set 1 : anadyr\n",
      "Processing Record 36 of Set 1 : flinders\n",
      "City not found. Skipping...\n",
      "City not found. Skipping...\n",
      "Processing Record 37 of Set 1 : port moresby\n",
      "Processing Record 38 of Set 1 : butaritari\n",
      "Processing Record 39 of Set 1 : kaitangata\n",
      "Processing Record 40 of Set 1 : caravelas\n",
      "Processing Record 41 of Set 1 : khatanga\n",
      "Processing Record 42 of Set 1 : albany\n",
      "Processing Record 43 of Set 1 : hilo\n",
      "Processing Record 44 of Set 1 : punta arenas\n",
      "Processing Record 45 of Set 1 : provideniya\n",
      "Processing Record 46 of Set 1 : bambous virieux\n",
      "Processing Record 47 of Set 1 : morondava\n",
      "Processing Record 48 of Set 1 : inhambane\n",
      "Processing Record 49 of Set 1 : pimenta bueno\n",
      "Processing Record 50 of Set 1 : kiunga\n",
      "Processing Record 0 of Set 2 : yellowknife\n",
      "Processing Record 1 of Set 2 : ardesen\n",
      "Processing Record 2 of Set 2 : vaini\n",
      "Processing Record 3 of Set 2 : hithadhoo\n",
      "Processing Record 4 of Set 2 : kavieng\n",
      "Processing Record 5 of Set 2 : port alfred\n",
      "Processing Record 6 of Set 2 : russell\n",
      "Processing Record 7 of Set 2 : arraial do cabo\n",
      "Processing Record 8 of Set 2 : sambava\n",
      "Processing Record 9 of Set 2 : puerto ayora\n",
      "Processing Record 10 of Set 2 : cape town\n",
      "Processing Record 11 of Set 2 : sept-iles\n",
      "Processing Record 12 of Set 2 : tura\n",
      "Processing Record 13 of Set 2 : hermanus\n",
      "Processing Record 14 of Set 2 : nador\n",
      "Processing Record 15 of Set 2 : yaan\n",
      "Processing Record 16 of Set 2 : songjianghe\n",
      "Processing Record 17 of Set 2 : hornepayne\n",
      "Processing Record 18 of Set 2 : balabac\n",
      "Processing Record 19 of Set 2 : bredasdorp\n",
      "Processing Record 20 of Set 2 : pangnirtung\n",
      "Processing Record 21 of Set 2 : bengkulu\n",
      "Processing Record 22 of Set 2 : ponta do sol\n",
      "Processing Record 23 of Set 2 : leningradskiy\n",
      "City not found. Skipping...\n",
      "Processing Record 24 of Set 2 : kaeo\n",
      "Processing Record 25 of Set 2 : nemuro\n",
      "Processing Record 26 of Set 2 : talnakh\n",
      "Processing Record 27 of Set 2 : kargasok\n",
      "City not found. Skipping...\n",
      "Processing Record 28 of Set 2 : horsham\n",
      "City not found. Skipping...\n",
      "Processing Record 29 of Set 2 : hasaki\n",
      "Processing Record 30 of Set 2 : ahipara\n",
      "City not found. Skipping...\n",
      "Processing Record 31 of Set 2 : westport\n",
      "Processing Record 32 of Set 2 : tiksi\n",
      "Processing Record 33 of Set 2 : san patricio\n",
      "Processing Record 34 of Set 2 : huarmey\n",
      "Processing Record 35 of Set 2 : augusto correa\n",
      "Processing Record 36 of Set 2 : avarua\n",
      "Processing Record 37 of Set 2 : benghazi\n",
      "Processing Record 38 of Set 2 : dunmore town\n",
      "Processing Record 39 of Set 2 : lakatoro\n",
      "Processing Record 40 of Set 2 : boddam\n",
      "Processing Record 41 of Set 2 : adrar\n",
      "Processing Record 42 of Set 2 : canto do buriti\n",
      "Processing Record 43 of Set 2 : stromness\n",
      "Processing Record 44 of Set 2 : muroto\n",
      "Processing Record 45 of Set 2 : pratapgarh\n",
      "Processing Record 46 of Set 2 : progreso\n",
      "Processing Record 47 of Set 2 : torbay\n",
      "Processing Record 48 of Set 2 : marsa matruh\n",
      "Processing Record 49 of Set 2 : sur\n",
      "Processing Record 50 of Set 2 : castellaneta\n",
      "Processing Record 0 of Set 3 : sakakah\n",
      "Processing Record 1 of Set 3 : carnarvon\n",
      "Processing Record 2 of Set 3 : hirara\n",
      "Processing Record 3 of Set 3 : dubbo\n",
      "City not found. Skipping...\n",
      "Processing Record 4 of Set 3 : stuttgart\n",
      "Processing Record 5 of Set 3 : havre\n",
      "Processing Record 6 of Set 3 : san cristobal\n",
      "Processing Record 7 of Set 3 : hermosillo\n",
      "Processing Record 8 of Set 3 : ribeira grande\n",
      "Processing Record 9 of Set 3 : khani\n",
      "Processing Record 10 of Set 3 : robe\n",
      "Processing Record 11 of Set 3 : zhigansk\n",
      "Processing Record 12 of Set 3 : abu samrah\n",
      "Processing Record 13 of Set 3 : constantine\n",
      "Processing Record 14 of Set 3 : sisimiut\n",
      "Processing Record 15 of Set 3 : wisconsin rapids\n",
      "Processing Record 16 of Set 3 : port hedland\n",
      "Processing Record 17 of Set 3 : iqaluit\n",
      "Processing Record 18 of Set 3 : belebey\n",
      "Processing Record 19 of Set 3 : bristol\n",
      "Processing Record 20 of Set 3 : new norfolk\n",
      "Processing Record 21 of Set 3 : saint-philippe\n",
      "City not found. Skipping...\n",
      "Processing Record 22 of Set 3 : bestobe\n",
      "City not found. Skipping...\n",
      "City not found. Skipping...\n",
      "Processing Record 23 of Set 3 : evensk\n",
      "Processing Record 24 of Set 3 : channel-port aux basques\n",
      "Processing Record 25 of Set 3 : two rivers\n",
      "Processing Record 26 of Set 3 : miles city\n",
      "Processing Record 27 of Set 3 : asosa\n",
      "Processing Record 28 of Set 3 : sobolevo\n",
      "City not found. Skipping...\n",
      "Processing Record 29 of Set 3 : jamestown\n",
      "Processing Record 30 of Set 3 : kalmunai\n",
      "Processing Record 31 of Set 3 : lompoc\n",
      "Processing Record 32 of Set 3 : luderitz\n",
      "Processing Record 33 of Set 3 : ocara\n",
      "City not found. Skipping...\n",
      "Processing Record 34 of Set 3 : cidreira\n",
      "Processing Record 35 of Set 3 : puerto leguizamo\n",
      "Processing Record 36 of Set 3 : souillac\n",
      "Processing Record 37 of Set 3 : alta\n",
      "Processing Record 38 of Set 3 : san quintin\n",
      "Processing Record 39 of Set 3 : uyovu\n",
      "Processing Record 40 of Set 3 : hambantota\n",
      "Processing Record 41 of Set 3 : asbe teferi\n",
      "Processing Record 42 of Set 3 : baruun-urt\n",
      "Processing Record 43 of Set 3 : labuhan\n",
      "Processing Record 44 of Set 3 : eirunepe\n",
      "Processing Record 45 of Set 3 : faanui\n",
      "Processing Record 46 of Set 3 : dikson\n",
      "Processing Record 47 of Set 3 : kwinana\n",
      "Processing Record 48 of Set 3 : nome\n",
      "Processing Record 49 of Set 3 : jutai\n",
      "Processing Record 50 of Set 3 : petrolina\n",
      "Processing Record 0 of Set 4 : fort nelson\n",
      "Processing Record 1 of Set 4 : mount gambier\n",
      "Processing Record 2 of Set 4 : roma\n",
      "Processing Record 3 of Set 4 : antofagasta\n",
      "Processing Record 4 of Set 4 : nanortalik\n",
      "Processing Record 5 of Set 4 : port blair\n",
      "City not found. Skipping...\n",
      "Processing Record 6 of Set 4 : blairmore\n",
      "Processing Record 7 of Set 4 : olovyannaya\n",
      "Processing Record 8 of Set 4 : lata\n",
      "Processing Record 9 of Set 4 : mariental\n",
      "Processing Record 10 of Set 4 : benguela\n",
      "Processing Record 11 of Set 4 : kruisfontein\n",
      "Processing Record 12 of Set 4 : asfi\n",
      "City not found. Skipping...\n",
      "Processing Record 13 of Set 4 : mao\n",
      "Processing Record 14 of Set 4 : lagunillas\n",
      "Processing Record 15 of Set 4 : winslow\n",
      "Processing Record 16 of Set 4 : sitka\n",
      "Processing Record 17 of Set 4 : belyy yar\n",
      "Processing Record 18 of Set 4 : tilichiki\n",
      "City not found. Skipping...\n",
      "Processing Record 19 of Set 4 : nokaneng\n",
      "Processing Record 20 of Set 4 : dhidhdhoo\n",
      "Processing Record 21 of Set 4 : burla\n",
      "Processing Record 22 of Set 4 : georgetown\n",
      "Processing Record 23 of Set 4 : saint-pierre\n",
      "Processing Record 24 of Set 4 : goba\n",
      "Processing Record 25 of Set 4 : vradiyivka\n",
      "Processing Record 26 of Set 4 : gorin\n",
      "Processing Record 27 of Set 4 : santo tomas\n",
      "Processing Record 28 of Set 4 : mar del plata\n",
      "Processing Record 29 of Set 4 : nizhniy odes\n",
      "Processing Record 30 of Set 4 : vestmannaeyjar\n",
      "Processing Record 31 of Set 4 : colares\n",
      "Processing Record 32 of Set 4 : coquimbo\n",
      "Processing Record 33 of Set 4 : meadow lake\n",
      "Processing Record 34 of Set 4 : uige\n",
      "Processing Record 35 of Set 4 : eyl\n",
      "Processing Record 36 of Set 4 : arica\n",
      "Processing Record 37 of Set 4 : preobrazheniye\n",
      "Processing Record 38 of Set 4 : chuy\n",
      "Processing Record 39 of Set 4 : osypenko\n",
      "Processing Record 40 of Set 4 : nikolskoye\n",
      "Processing Record 41 of Set 4 : salta\n",
      "Processing Record 42 of Set 4 : dzaoudzi\n",
      "Processing Record 43 of Set 4 : tuktoyaktuk\n",
      "Processing Record 44 of Set 4 : longyearbyen\n",
      "Processing Record 45 of Set 4 : donje dubrave\n",
      "Processing Record 46 of Set 4 : cherskiy\n",
      "Processing Record 47 of Set 4 : severo-kurilsk\n",
      "Processing Record 48 of Set 4 : port hardy\n",
      "Processing Record 49 of Set 4 : hamilton\n",
      "Processing Record 50 of Set 4 : korla\n",
      "Processing Record 0 of Set 5 : la ronge\n",
      "Processing Record 1 of Set 5 : miri\n",
      "Processing Record 2 of Set 5 : wagrowiec\n",
      "City not found. Skipping...\n",
      "Processing Record 3 of Set 5 : bayji\n",
      "Processing Record 4 of Set 5 : duiwelskloof\n",
      "Processing Record 5 of Set 5 : santa maria\n",
      "City not found. Skipping...\n",
      "Processing Record 6 of Set 5 : oranjestad\n",
      "Processing Record 7 of Set 5 : dunedin\n",
      "Processing Record 8 of Set 5 : ust-nera\n",
      "Processing Record 9 of Set 5 : port lincoln\n",
      "City not found. Skipping...\n",
      "Processing Record 10 of Set 5 : cayenne\n",
      "City not found. Skipping...\n",
      "City not found. Skipping...\n",
      "Processing Record 11 of Set 5 : toktogul\n",
      "Processing Record 12 of Set 5 : paamiut\n",
      "Processing Record 13 of Set 5 : mikumi\n",
      "Processing Record 14 of Set 5 : yarada\n",
      "City not found. Skipping...\n",
      "Processing Record 15 of Set 5 : catamarca\n",
      "Processing Record 16 of Set 5 : norman wells\n",
      "Processing Record 17 of Set 5 : valparaiso\n",
      "Processing Record 18 of Set 5 : barstow\n",
      "Processing Record 19 of Set 5 : cabedelo\n",
      "Processing Record 20 of Set 5 : payson\n",
      "Processing Record 21 of Set 5 : macau\n",
      "Processing Record 22 of Set 5 : plettenberg bay\n",
      "Processing Record 23 of Set 5 : pocatello\n",
      "Processing Record 24 of Set 5 : naze\n",
      "Processing Record 25 of Set 5 : puerto madero\n",
      "Processing Record 26 of Set 5 : kenitra\n",
      "City not found. Skipping...\n",
      "Processing Record 27 of Set 5 : puerto madryn\n",
      "Processing Record 28 of Set 5 : haldensleben\n",
      "Processing Record 29 of Set 5 : segovia\n",
      "Processing Record 30 of Set 5 : mareeba\n",
      "Processing Record 31 of Set 5 : jega\n",
      "Processing Record 32 of Set 5 : penzance\n",
      "Processing Record 33 of Set 5 : los llanos de aridane\n",
      "Processing Record 34 of Set 5 : bubaque\n",
      "Processing Record 35 of Set 5 : mayo\n",
      "Processing Record 36 of Set 5 : safaga\n",
      "Processing Record 37 of Set 5 : prieska\n",
      "Processing Record 38 of Set 5 : olafsvik\n",
      "Processing Record 39 of Set 5 : high level\n",
      "Processing Record 40 of Set 5 : sarangani\n",
      "Processing Record 41 of Set 5 : bethel\n",
      "Processing Record 42 of Set 5 : lodja\n",
      "City not found. Skipping...\n",
      "Processing Record 43 of Set 5 : hualmay\n",
      "Processing Record 44 of Set 5 : seydi\n",
      "Processing Record 45 of Set 5 : aklavik\n",
      "Processing Record 46 of Set 5 : the valley\n",
      "City not found. Skipping...\n",
      "Processing Record 47 of Set 5 : mangrol\n",
      "Processing Record 48 of Set 5 : karratha\n",
      "Processing Record 49 of Set 5 : pisco\n",
      "Processing Record 50 of Set 5 : kalaleh\n",
      "City not found. Skipping...\n",
      "Processing Record 0 of Set 6 : klaksvik\n",
      "Processing Record 1 of Set 6 : nabire\n",
      "Processing Record 2 of Set 6 : charters towers\n",
      "Processing Record 3 of Set 6 : monroe\n",
      "Processing Record 4 of Set 6 : srednekolymsk\n",
      "Processing Record 5 of Set 6 : acapulco\n",
      "Processing Record 6 of Set 6 : mahebourg\n",
      "Processing Record 7 of Set 6 : kodiak\n",
      "Processing Record 8 of Set 6 : wufeng\n",
      "Processing Record 9 of Set 6 : sangar\n",
      "Processing Record 10 of Set 6 : tual\n",
      "Processing Record 11 of Set 6 : tuburan\n",
      "Processing Record 12 of Set 6 : kindu\n",
      "Processing Record 13 of Set 6 : rizhao\n",
      "Processing Record 14 of Set 6 : luanda\n",
      "Processing Record 15 of Set 6 : husavik\n",
      "Processing Record 16 of Set 6 : nhulunbuy\n",
      "Processing Record 17 of Set 6 : cazones\n",
      "Processing Record 18 of Set 6 : stephenville\n",
      "Processing Record 19 of Set 6 : tezu\n",
      "Processing Record 20 of Set 6 : grand-lahou\n",
      "Processing Record 21 of Set 6 : saint george\n",
      "Processing Record 22 of Set 6 : sanbu\n",
      "Processing Record 23 of Set 6 : kailua\n",
      "City not found. Skipping...\n",
      "Processing Record 24 of Set 6 : saskylakh\n",
      "Processing Record 25 of Set 6 : lifford\n",
      "Processing Record 26 of Set 6 : lagoa\n",
      "Processing Record 27 of Set 6 : maues\n",
      "Processing Record 28 of Set 6 : aldan\n",
      "Processing Record 29 of Set 6 : coalinga\n",
      "Processing Record 30 of Set 6 : darnah\n",
      "Processing Record 31 of Set 6 : myitkyina\n",
      "City not found. Skipping...\n",
      "Processing Record 32 of Set 6 : palauig\n",
      "Processing Record 33 of Set 6 : xichang\n",
      "Processing Record 34 of Set 6 : bilibino\n",
      "Processing Record 35 of Set 6 : sao francisco\n",
      "Processing Record 36 of Set 6 : zhenlai\n",
      "Processing Record 37 of Set 6 : myanaung\n",
      "Processing Record 38 of Set 6 : taltal\n",
      "Processing Record 39 of Set 6 : babina\n",
      "Processing Record 40 of Set 6 : osoyoos\n",
      "Processing Record 41 of Set 6 : dingle\n",
      "Processing Record 42 of Set 6 : opuwo\n",
      "Processing Record 43 of Set 6 : kurchum\n",
      "Processing Record 44 of Set 6 : antalaha\n",
      "Processing Record 45 of Set 6 : ixtapa\n",
      "Processing Record 46 of Set 6 : narasannapeta\n",
      "Processing Record 47 of Set 6 : saldanha\n",
      "Processing Record 48 of Set 6 : makakilo city\n",
      "Processing Record 49 of Set 6 : moose factory\n",
      "Processing Record 50 of Set 6 : katsuura\n",
      "Processing Record 0 of Set 7 : coihaique\n",
      "Processing Record 1 of Set 7 : zhuhai\n",
      "Processing Record 2 of Set 7 : havre-saint-pierre\n",
      "Processing Record 3 of Set 7 : lubuk pakam\n",
      "Processing Record 4 of Set 7 : usinsk\n",
      "Processing Record 5 of Set 7 : saint-francois\n",
      "Processing Record 6 of Set 7 : saint-georges\n",
      "Processing Record 7 of Set 7 : aras\n",
      "Processing Record 8 of Set 7 : davila\n",
      "Processing Record 9 of Set 7 : chaozhou\n",
      "Processing Record 10 of Set 7 : esna\n",
      "Processing Record 11 of Set 7 : salgueiro\n",
      "Processing Record 12 of Set 7 : lavrentiya\n",
      "Processing Record 13 of Set 7 : ningbo\n",
      "Processing Record 14 of Set 7 : birao\n",
      "Processing Record 15 of Set 7 : bolshaya rechka\n",
      "City not found. Skipping...\n",
      "Processing Record 16 of Set 7 : tuy hoa\n",
      "Processing Record 17 of Set 7 : necochea\n",
      "Processing Record 18 of Set 7 : camocim\n",
      "Processing Record 19 of Set 7 : fort-shevchenko\n",
      "Processing Record 20 of Set 7 : moreira sales\n",
      "Processing Record 21 of Set 7 : peiting\n",
      "Processing Record 22 of Set 7 : ola\n",
      "Processing Record 23 of Set 7 : amahai\n",
      "Processing Record 24 of Set 7 : alugan\n",
      "Processing Record 25 of Set 7 : dong xoai\n",
      "Processing Record 26 of Set 7 : domat\n",
      "Processing Record 27 of Set 7 : mus\n",
      "Processing Record 28 of Set 7 : ofaqim\n",
      "Processing Record 29 of Set 7 : ongandjera\n",
      "Processing Record 30 of Set 7 : nishihara\n",
      "Processing Record 31 of Set 7 : camacha\n",
      "Processing Record 32 of Set 7 : voyinka\n",
      "City not found. Skipping...\n",
      "Processing Record 33 of Set 7 : kondinskoye\n",
      "Processing Record 34 of Set 7 : aguia branca\n",
      "Processing Record 35 of Set 7 : avera\n",
      "Processing Record 36 of Set 7 : visaginas\n",
      "Processing Record 37 of Set 7 : sibu\n",
      "Processing Record 38 of Set 7 : muros\n",
      "Processing Record 39 of Set 7 : sulangan\n",
      "Processing Record 40 of Set 7 : kavaratti\n",
      "Processing Record 41 of Set 7 : comodoro rivadavia\n",
      "Processing Record 42 of Set 7 : kirensk\n",
      "City not found. Skipping...\n",
      "Processing Record 43 of Set 7 : arganil\n",
      "Processing Record 44 of Set 7 : ancud\n",
      "Processing Record 45 of Set 7 : road town\n",
      "Processing Record 46 of Set 7 : roald\n",
      "Processing Record 47 of Set 7 : port-cartier\n",
      "Processing Record 48 of Set 7 : alpena\n",
      "Processing Record 49 of Set 7 : mount isa\n",
      "Processing Record 50 of Set 7 : baracoa\n",
      "Processing Record 0 of Set 8 : esperance\n",
      "Processing Record 1 of Set 8 : dayong\n",
      "Processing Record 2 of Set 8 : zwedru\n",
      "Processing Record 3 of Set 8 : damara\n",
      "Processing Record 4 of Set 8 : namatanai\n",
      "Processing Record 5 of Set 8 : morro bay\n",
      "Processing Record 6 of Set 8 : birin\n",
      "Processing Record 7 of Set 8 : codrington\n",
      "Processing Record 8 of Set 8 : eldorado\n",
      "Processing Record 9 of Set 8 : mitsamiouli\n",
      "Processing Record 10 of Set 8 : bukama\n",
      "Processing Record 11 of Set 8 : leglise\n",
      "Processing Record 12 of Set 8 : neuquen\n",
      "Processing Record 13 of Set 8 : pangkalanbuun\n",
      "Processing Record 14 of Set 8 : guerrero negro\n",
      "Processing Record 15 of Set 8 : dekar\n",
      "Processing Record 16 of Set 8 : zhangjiakou\n",
      "Processing Record 17 of Set 8 : vostok\n",
      "Processing Record 18 of Set 8 : sao bartolomeu de messines\n",
      "Processing Record 19 of Set 8 : sivas\n",
      "Processing Record 20 of Set 8 : sobrance\n",
      "Processing Record 21 of Set 8 : netrakona\n",
      "Processing Record 22 of Set 8 : le havre\n",
      "City not found. Skipping...\n",
      "Processing Record 23 of Set 8 : ketchikan\n",
      "Processing Record 24 of Set 8 : hastings\n",
      "Processing Record 25 of Set 8 : solenzo\n",
      "Processing Record 26 of Set 8 : praia da vitoria\n",
      "Processing Record 27 of Set 8 : isangel\n",
      "Processing Record 28 of Set 8 : luau\n",
      "Processing Record 29 of Set 8 : maraa\n",
      "City not found. Skipping...\n",
      "Processing Record 30 of Set 8 : airai\n",
      "Processing Record 31 of Set 8 : bibiani\n",
      "City not found. Skipping...\n",
      "Processing Record 32 of Set 8 : xacmaz\n",
      "Processing Record 33 of Set 8 : xiongzhou\n",
      "Processing Record 34 of Set 8 : imeni babushkina\n",
      "City not found. Skipping...\n",
      "Processing Record 35 of Set 8 : samarai\n",
      "Processing Record 36 of Set 8 : tautira\n",
      "Processing Record 37 of Set 8 : khash\n",
      "Processing Record 38 of Set 8 : ostrovnoy\n",
      "Processing Record 39 of Set 8 : houston\n",
      "Processing Record 40 of Set 8 : san rafael\n",
      "Processing Record 41 of Set 8 : itarema\n",
      "Processing Record 42 of Set 8 : safford\n",
      "Processing Record 43 of Set 8 : rocha\n",
      "Processing Record 44 of Set 8 : burnie\n",
      "Processing Record 45 of Set 8 : gizo\n",
      "Processing Record 46 of Set 8 : vanino\n",
      "Processing Record 47 of Set 8 : denpasar\n",
      "Processing Record 48 of Set 8 : grindavik\n",
      "Processing Record 49 of Set 8 : grand gaube\n",
      "Processing Record 50 of Set 8 : lenger\n",
      "Processing Record 0 of Set 9 : bonavista\n",
      "Processing Record 1 of Set 9 : minab\n",
      "Processing Record 2 of Set 9 : andapa\n",
      "City not found. Skipping...\n",
      "Processing Record 3 of Set 9 : aktau\n",
      "Processing Record 4 of Set 9 : lima\n",
      "Processing Record 5 of Set 9 : bhainsdehi\n",
      "Processing Record 6 of Set 9 : sao joao da barra\n",
      "City not found. Skipping...\n",
      "City not found. Skipping...\n",
      "Processing Record 7 of Set 9 : constitucion\n",
      "Processing Record 8 of Set 9 : pyshma\n",
      "Processing Record 9 of Set 9 : ilulissat\n",
      "Processing Record 10 of Set 9 : horasan\n",
      "Processing Record 11 of Set 9 : half moon bay\n",
      "Processing Record 12 of Set 9 : pitkyaranta\n",
      "Processing Record 13 of Set 9 : finschhafen\n",
      "City not found. Skipping...\n",
      "Processing Record 14 of Set 9 : dindori\n",
      "Processing Record 15 of Set 9 : carutapera\n",
      "Processing Record 16 of Set 9 : daru\n",
      "Processing Record 17 of Set 9 : rio gallegos\n",
      "Processing Record 18 of Set 9 : ust-koksa\n",
      "Processing Record 19 of Set 9 : bull savanna\n",
      "Processing Record 20 of Set 9 : poya\n",
      "Processing Record 21 of Set 9 : rio grande\n",
      "Processing Record 22 of Set 9 : vestmanna\n",
      "Processing Record 23 of Set 9 : kamiiso\n",
      "Processing Record 24 of Set 9 : berlevag\n",
      "Processing Record 25 of Set 9 : te anau\n",
      "Processing Record 26 of Set 9 : pacific grove\n",
      "Processing Record 27 of Set 9 : lorengau\n",
      "Processing Record 28 of Set 9 : pathein\n",
      "Processing Record 29 of Set 9 : sao filipe\n",
      "Processing Record 30 of Set 9 : biak\n",
      "City not found. Skipping...\n",
      "Processing Record 31 of Set 9 : yumen\n",
      "Processing Record 32 of Set 9 : harlingen\n",
      "Processing Record 33 of Set 9 : nuuk\n",
      "City not found. Skipping...\n",
      "Processing Record 34 of Set 9 : turka\n",
      "Processing Record 35 of Set 9 : porto santo\n",
      "Processing Record 36 of Set 9 : springbok\n",
      "Processing Record 37 of Set 9 : luwuk\n",
      "Processing Record 38 of Set 9 : oksfjord\n",
      "Processing Record 39 of Set 9 : saint-joseph\n",
      "Processing Record 40 of Set 9 : lufilufi\n",
      "Processing Record 41 of Set 9 : micheweni\n",
      "Processing Record 42 of Set 9 : zeya\n",
      "Processing Record 43 of Set 9 : fort saint james\n",
      "Processing Record 44 of Set 9 : oktyabrskiy\n",
      "Processing Record 45 of Set 9 : wuzhou\n",
      "Processing Record 46 of Set 9 : kibungo\n",
      "Processing Record 47 of Set 9 : nouadhibou\n",
      "Processing Record 48 of Set 9 : ust-tsilma\n",
      "Processing Record 49 of Set 9 : librazhd\n",
      "Processing Record 50 of Set 9 : dunmore east\n",
      "Processing Record 0 of Set 10 : fortuna foothills\n",
      "City not found. Skipping...\n",
      "Processing Record 1 of Set 10 : praia\n",
      "Processing Record 2 of Set 10 : alofi\n",
      "City not found. Skipping...\n",
      "Processing Record 3 of Set 10 : atambua\n",
      "Processing Record 4 of Set 10 : cockburn town\n",
      "Processing Record 5 of Set 10 : christchurch\n",
      "Processing Record 6 of Set 10 : puerto montt\n",
      "Processing Record 7 of Set 10 : turochak\n",
      "Processing Record 8 of Set 10 : mocajuba\n",
      "Processing Record 9 of Set 10 : ulma\n",
      "Processing Record 10 of Set 10 : gigmoto\n",
      "Processing Record 11 of Set 10 : taguatinga\n",
      "Processing Record 12 of Set 10 : laguna\n",
      "Processing Record 13 of Set 10 : ust-omchug\n",
      "City not found. Skipping...\n",
      "Processing Record 14 of Set 10 : goroka\n",
      "Processing Record 15 of Set 10 : khasan\n",
      "Processing Record 16 of Set 10 : long xuyen\n",
      "Processing Record 17 of Set 10 : suez\n",
      "Processing Record 18 of Set 10 : tooele\n",
      "Processing Record 19 of Set 10 : maihar\n",
      "Processing Record 20 of Set 10 : san jorge\n",
      "Processing Record 21 of Set 10 : oswego\n",
      "Processing Record 22 of Set 10 : arkhangelskoye\n",
      "Processing Record 23 of Set 10 : miyako\n",
      "Processing Record 24 of Set 10 : akdagmadeni\n",
      "Processing Record 25 of Set 10 : vicuna\n",
      "Processing Record 26 of Set 10 : loa janan\n",
      "Processing Record 27 of Set 10 : thiruvananthapuram\n",
      "Processing Record 28 of Set 10 : beloha\n",
      "Processing Record 29 of Set 10 : monaragala\n",
      "Processing Record 30 of Set 10 : novikovo\n",
      "Processing Record 31 of Set 10 : broken hill\n",
      "Processing Record 32 of Set 10 : corinto\n",
      "Processing Record 33 of Set 10 : maragogi\n",
      "Processing Record 34 of Set 10 : coruripe\n",
      "Processing Record 35 of Set 10 : boden\n",
      "Processing Record 36 of Set 10 : bealanana\n",
      "Processing Record 37 of Set 10 : touros\n",
      "Processing Record 38 of Set 10 : zlatograd\n",
      "Processing Record 39 of Set 10 : harper\n",
      "Processing Record 40 of Set 10 : pochutla\n",
      "Processing Record 41 of Set 10 : shimoda\n",
      "Processing Record 42 of Set 10 : sinazongwe\n",
      "Processing Record 43 of Set 10 : sabzevar\n",
      "Processing Record 44 of Set 10 : sexsmith\n",
      "Processing Record 45 of Set 10 : rio verde de mato grosso\n",
      "Processing Record 46 of Set 10 : abalak\n",
      "Processing Record 47 of Set 10 : chistoye\n",
      "Processing Record 48 of Set 10 : linxia\n",
      "Processing Record 49 of Set 10 : ngaoundere\n",
      "Processing Record 50 of Set 10 : itoman\n",
      "City not found. Skipping...\n",
      "Processing Record 0 of Set 11 : chulman\n",
      "Processing Record 1 of Set 11 : anamur\n",
      "Processing Record 2 of Set 11 : henties bay\n",
      "Processing Record 3 of Set 11 : tamala\n",
      "Processing Record 4 of Set 11 : geraldton\n",
      "Processing Record 5 of Set 11 : didam\n",
      "City not found. Skipping...\n",
      "Processing Record 6 of Set 11 : iaciara\n",
      "Processing Record 7 of Set 11 : nampula\n",
      "Processing Record 8 of Set 11 : ushtobe\n",
      "Processing Record 9 of Set 11 : tortoli\n",
      "Processing Record 10 of Set 11 : mackay\n",
      "Processing Record 11 of Set 11 : vila franca do campo\n",
      "Processing Record 12 of Set 11 : amga\n",
      "Processing Record 13 of Set 11 : honavar\n",
      "Processing Record 14 of Set 11 : kipushi\n",
      "Processing Record 15 of Set 11 : ferkessedougou\n",
      "Processing Record 16 of Set 11 : fairbanks\n",
      "City not found. Skipping...\n",
      "Processing Record 17 of Set 11 : kalabo\n",
      "Processing Record 18 of Set 11 : cubulco\n",
      "Processing Record 19 of Set 11 : vysokogornyy\n",
      "Processing Record 20 of Set 11 : okhotsk\n",
      "Processing Record 21 of Set 11 : roebourne\n",
      "Processing Record 22 of Set 11 : murgab\n",
      "Processing Record 23 of Set 11 : kamenka\n",
      "Processing Record 24 of Set 11 : pudozh\n",
      "Processing Record 25 of Set 11 : cartagena\n",
      "Processing Record 26 of Set 11 : nipawin\n",
      "Processing Record 27 of Set 11 : beidao\n",
      "City not found. Skipping...\n",
      "Processing Record 28 of Set 11 : bundaberg\n",
      "Processing Record 29 of Set 11 : capim grosso\n",
      "Processing Record 30 of Set 11 : los banos\n",
      "Processing Record 31 of Set 11 : vammala\n",
      "Processing Record 32 of Set 11 : totskoye\n",
      "Processing Record 33 of Set 11 : peniche\n",
      "Processing Record 34 of Set 11 : mackenzie\n",
      "Processing Record 35 of Set 11 : sorland\n",
      "-----------------------\n",
      "Data Retrieval Complete\n",
      "-----------------------\n"
     ]
    }
   ],
   "source": [
    "# Define Variables\n",
    "city_name = []\n",
    "lat = []\n",
    "lon = []\n",
    "max_temp = []\n",
    "humid = []\n",
    "clouds = []\n",
    "wind_speed = []\n",
    "country = []\n",
    "date = []\n",
    "city_count = 0\n",
    "set_number = 1\n",
    "\n",
    "print(f'Beginning Data Retrieval')\n",
    "print(f'------------------------')\n",
    "\n",
    "for index, city in enumerate(cities, start = 1):\n",
    "    try:\n",
    "        weather_response = requests.get(city_url + city).json()\n",
    "        city_name.append(weather_response['name'])\n",
    "        lat.append(weather_response['coord']['lat'])\n",
    "        lon.append(weather_response['coord']['lon'])     \n",
    "        max_temp.append(weather_response['main']['temp_max'])\n",
    "        humid.append(weather_response['main']['humidity'])\n",
    "        clouds.append(weather_response['clouds']['all'])\n",
    "        wind_speed.append(weather_response['wind']['speed'])\n",
    "        country.append(weather_response['sys']['country'])\n",
    "        date.append(weather_response['dt'])\n",
    "        \n",
    "        if city_count > 49:\n",
    "            city_count = 0\n",
    "            set_number += 1\n",
    "        \n",
    "        else:\n",
    "            city_count += 1\n",
    "        \n",
    "        print(f'Processing Record {city_count} of Set {set_number} : {city}')\n",
    "\n",
    "    except(KeyError, IndexError):\n",
    "        print('City not found. Skipping...') \n",
    "        \n",
    "    continue\n",
    "\n",
    "\n",
    "print(f'-----------------------')\n",
    "print(f'Data Retrieval Complete')\n",
    "print(f'-----------------------')"
   ]
  },
  {
   "cell_type": "code",
   "execution_count": null,
   "metadata": {},
   "outputs": [],
   "source": [
    "# responses= []\n",
    "# for city in cities:\n",
    "#     try:\n",
    "#         weather_response = requests.get(city_url + city).json()\n",
    "#         responses.append(weather_response)\n",
    "#         print('It is working') \n",
    "#     except:\n",
    "#         print('City not found. Skipping...') \n",
    "        \n",
    "# responses[1]"
   ]
  },
  {
   "cell_type": "markdown",
   "metadata": {},
   "source": [
    "### Convert Raw Data to DataFrame\n",
    "* Export the city data into a .csv.\n",
    "* Display the DataFrame"
   ]
  },
  {
   "cell_type": "code",
   "execution_count": 19,
   "metadata": {},
   "outputs": [
    {
     "data": {
      "text/html": [
       "<div>\n",
       "<style scoped>\n",
       "    .dataframe tbody tr th:only-of-type {\n",
       "        vertical-align: middle;\n",
       "    }\n",
       "\n",
       "    .dataframe tbody tr th {\n",
       "        vertical-align: top;\n",
       "    }\n",
       "\n",
       "    .dataframe thead th {\n",
       "        text-align: right;\n",
       "    }\n",
       "</style>\n",
       "<table border=\"1\" class=\"dataframe\">\n",
       "  <thead>\n",
       "    <tr style=\"text-align: right;\">\n",
       "      <th></th>\n",
       "      <th>City</th>\n",
       "      <th>Lat</th>\n",
       "      <th>Lng</th>\n",
       "      <th>Max Temp</th>\n",
       "      <th>Humidity</th>\n",
       "      <th>Cloudiness</th>\n",
       "      <th>Wind Speed</th>\n",
       "      <th>Country</th>\n",
       "      <th>Date</th>\n",
       "    </tr>\n",
       "  </thead>\n",
       "  <tbody>\n",
       "    <tr>\n",
       "      <th>0</th>\n",
       "      <td>Bluff</td>\n",
       "      <td>-46.6000</td>\n",
       "      <td>168.3333</td>\n",
       "      <td>61.81</td>\n",
       "      <td>75</td>\n",
       "      <td>93</td>\n",
       "      <td>8.66</td>\n",
       "      <td>NZ</td>\n",
       "      <td>1638240372</td>\n",
       "    </tr>\n",
       "    <tr>\n",
       "      <th>1</th>\n",
       "      <td>Castro</td>\n",
       "      <td>-24.7911</td>\n",
       "      <td>-50.0119</td>\n",
       "      <td>62.24</td>\n",
       "      <td>89</td>\n",
       "      <td>64</td>\n",
       "      <td>3.38</td>\n",
       "      <td>BR</td>\n",
       "      <td>1638240373</td>\n",
       "    </tr>\n",
       "    <tr>\n",
       "      <th>2</th>\n",
       "      <td>Tasiilaq</td>\n",
       "      <td>65.6145</td>\n",
       "      <td>-37.6368</td>\n",
       "      <td>21.36</td>\n",
       "      <td>92</td>\n",
       "      <td>92</td>\n",
       "      <td>4.72</td>\n",
       "      <td>GL</td>\n",
       "      <td>1638240373</td>\n",
       "    </tr>\n",
       "    <tr>\n",
       "      <th>3</th>\n",
       "      <td>Tutóia</td>\n",
       "      <td>-2.7619</td>\n",
       "      <td>-42.2744</td>\n",
       "      <td>80.78</td>\n",
       "      <td>81</td>\n",
       "      <td>23</td>\n",
       "      <td>12.10</td>\n",
       "      <td>BR</td>\n",
       "      <td>1638240374</td>\n",
       "    </tr>\n",
       "    <tr>\n",
       "      <th>4</th>\n",
       "      <td>Atuona</td>\n",
       "      <td>-9.8000</td>\n",
       "      <td>-139.0333</td>\n",
       "      <td>79.00</td>\n",
       "      <td>76</td>\n",
       "      <td>3</td>\n",
       "      <td>22.08</td>\n",
       "      <td>PF</td>\n",
       "      <td>1638240374</td>\n",
       "    </tr>\n",
       "  </tbody>\n",
       "</table>\n",
       "</div>"
      ],
      "text/plain": [
       "       City      Lat       Lng  Max Temp  Humidity  Cloudiness  Wind Speed  \\\n",
       "0     Bluff -46.6000  168.3333     61.81        75          93        8.66   \n",
       "1    Castro -24.7911  -50.0119     62.24        89          64        3.38   \n",
       "2  Tasiilaq  65.6145  -37.6368     21.36        92          92        4.72   \n",
       "3    Tutóia  -2.7619  -42.2744     80.78        81          23       12.10   \n",
       "4    Atuona  -9.8000 -139.0333     79.00        76           3       22.08   \n",
       "\n",
       "  Country        Date  \n",
       "0      NZ  1638240372  \n",
       "1      BR  1638240373  \n",
       "2      GL  1638240373  \n",
       "3      BR  1638240374  \n",
       "4      PF  1638240374  "
      ]
     },
     "execution_count": 19,
     "metadata": {},
     "output_type": "execute_result"
    }
   ],
   "source": [
    "#Create a dataframe using information from data retrieval\n",
    "weather_df = pd.DataFrame({ \"City\" : city_name, \"Lat\" : lat,\n",
    "                            \"Lng\" : lon, \"Max Temp\" : max_temp,\n",
    "                            \"Humidity\" : humid, \"Cloudiness\" : clouds,\n",
    "                            \"Wind Speed\" : wind_speed, \"Country\" : country,\n",
    "                            \"Date\" : date })\n",
    "weather_df.head()"
   ]
  },
  {
   "cell_type": "markdown",
   "metadata": {},
   "source": [
    "city_name = []\n",
    "lat = []\n",
    "lon = []\n",
    "max_temp = []\n",
    "humid = []\n",
    "clouds = []\n",
    "wind_speed = []\n",
    "country = []\n",
    "date = []"
   ]
  },
  {
   "cell_type": "code",
   "execution_count": 60,
   "metadata": {},
   "outputs": [],
   "source": [
    "# Export csv\n",
    "weather_df.to_csv(\"../output_data/cities.csv\", index=False)"
   ]
  },
  {
   "cell_type": "markdown",
   "metadata": {},
   "source": [
    "## Inspect the data and remove the cities where the humidity > 100%.\n",
    "----\n",
    "Skip this step if there are no cities that have humidity > 100%. "
   ]
  },
  {
   "cell_type": "code",
   "execution_count": 63,
   "metadata": {},
   "outputs": [
    {
     "data": {
      "text/html": [
       "<div>\n",
       "<style scoped>\n",
       "    .dataframe tbody tr th:only-of-type {\n",
       "        vertical-align: middle;\n",
       "    }\n",
       "\n",
       "    .dataframe tbody tr th {\n",
       "        vertical-align: top;\n",
       "    }\n",
       "\n",
       "    .dataframe thead th {\n",
       "        text-align: right;\n",
       "    }\n",
       "</style>\n",
       "<table border=\"1\" class=\"dataframe\">\n",
       "  <thead>\n",
       "    <tr style=\"text-align: right;\">\n",
       "      <th></th>\n",
       "      <th>City</th>\n",
       "      <th>Lat</th>\n",
       "      <th>Lng</th>\n",
       "      <th>Max Temp</th>\n",
       "      <th>Humidity</th>\n",
       "      <th>Cloudiness</th>\n",
       "      <th>Wind Speed</th>\n",
       "      <th>Country</th>\n",
       "      <th>Date</th>\n",
       "    </tr>\n",
       "  </thead>\n",
       "  <tbody>\n",
       "    <tr>\n",
       "      <th>0</th>\n",
       "      <td>Bluff</td>\n",
       "      <td>-46.6000</td>\n",
       "      <td>168.3333</td>\n",
       "      <td>61.81</td>\n",
       "      <td>75</td>\n",
       "      <td>93</td>\n",
       "      <td>8.66</td>\n",
       "      <td>NZ</td>\n",
       "      <td>1638240372</td>\n",
       "    </tr>\n",
       "    <tr>\n",
       "      <th>1</th>\n",
       "      <td>Castro</td>\n",
       "      <td>-24.7911</td>\n",
       "      <td>-50.0119</td>\n",
       "      <td>62.24</td>\n",
       "      <td>89</td>\n",
       "      <td>64</td>\n",
       "      <td>3.38</td>\n",
       "      <td>BR</td>\n",
       "      <td>1638240373</td>\n",
       "    </tr>\n",
       "    <tr>\n",
       "      <th>2</th>\n",
       "      <td>Tasiilaq</td>\n",
       "      <td>65.6145</td>\n",
       "      <td>-37.6368</td>\n",
       "      <td>21.36</td>\n",
       "      <td>92</td>\n",
       "      <td>92</td>\n",
       "      <td>4.72</td>\n",
       "      <td>GL</td>\n",
       "      <td>1638240373</td>\n",
       "    </tr>\n",
       "    <tr>\n",
       "      <th>3</th>\n",
       "      <td>Tutóia</td>\n",
       "      <td>-2.7619</td>\n",
       "      <td>-42.2744</td>\n",
       "      <td>80.78</td>\n",
       "      <td>81</td>\n",
       "      <td>23</td>\n",
       "      <td>12.10</td>\n",
       "      <td>BR</td>\n",
       "      <td>1638240374</td>\n",
       "    </tr>\n",
       "    <tr>\n",
       "      <th>4</th>\n",
       "      <td>Atuona</td>\n",
       "      <td>-9.8000</td>\n",
       "      <td>-139.0333</td>\n",
       "      <td>79.00</td>\n",
       "      <td>76</td>\n",
       "      <td>3</td>\n",
       "      <td>22.08</td>\n",
       "      <td>PF</td>\n",
       "      <td>1638240374</td>\n",
       "    </tr>\n",
       "  </tbody>\n",
       "</table>\n",
       "</div>"
      ],
      "text/plain": [
       "       City      Lat       Lng  Max Temp  Humidity  Cloudiness  Wind Speed  \\\n",
       "0     Bluff -46.6000  168.3333     61.81        75          93        8.66   \n",
       "1    Castro -24.7911  -50.0119     62.24        89          64        3.38   \n",
       "2  Tasiilaq  65.6145  -37.6368     21.36        92          92        4.72   \n",
       "3    Tutóia  -2.7619  -42.2744     80.78        81          23       12.10   \n",
       "4    Atuona  -9.8000 -139.0333     79.00        76           3       22.08   \n",
       "\n",
       "  Country        Date  \n",
       "0      NZ  1638240372  \n",
       "1      BR  1638240373  \n",
       "2      GL  1638240373  \n",
       "3      BR  1638240374  \n",
       "4      PF  1638240374  "
      ]
     },
     "execution_count": 63,
     "metadata": {},
     "output_type": "execute_result"
    }
   ],
   "source": [
    "#  Get the indices of cities that have humidity over 100%.\n",
    "hundred_df = weather_df[weather_df['Humidity'] > 0]\n",
    "hundred_df.head()"
   ]
  },
  {
   "cell_type": "code",
   "execution_count": null,
   "metadata": {},
   "outputs": [],
   "source": [
    "# Make a new DataFrame equal to the city data to drop all humidity outliers by index.\n",
    "# Passing \"inplace=False\" will make a copy of the city_data DataFrame, which we call \"clean_city_data\".\n"
   ]
  },
  {
   "cell_type": "markdown",
   "metadata": {},
   "source": [
    "## Plotting the Data\n",
    "* Use proper labeling of the plots using plot titles (including date of analysis) and axes labels.\n",
    "* Save the plotted figures as .pngs."
   ]
  },
  {
   "cell_type": "markdown",
   "metadata": {},
   "source": [
    "## Latitude vs. Temperature Plot"
   ]
  },
  {
   "cell_type": "code",
   "execution_count": 64,
   "metadata": {
    "scrolled": true
   },
   "outputs": [
    {
     "data": {
      "image/png": "[encoded data removed]",
      "text/plain": [
       "<Figure size 432x288 with 1 Axes>"
      ]
     },
     "metadata": {
      "needs_background": "light"
     },
     "output_type": "display_data"
    }
   ],
   "source": [
    "plt.scatter(weather_df\n",
    "            [\"Lat\"], weather_df[\"Max Temp\"], color = \"blue\", edgecolor = \"black\")\n",
    "\n",
    "plt.title(\"City Latitude vs. Max Temperature (11/29/21)\")\n",
    "plt.xlabel(\"Latitude\")\n",
    "plt.ylabel(\"Max Temperature (F)\")\n",
    "plt.grid(linestyle='-', linewidth=2, alpha=0.5)\n",
    "\n",
    "plt.savefig(\"../output_data/City_Latitude_vs_Temperature.png\")"
   ]
  },
  {
   "cell_type": "markdown",
   "metadata": {},
   "source": [
    "This plot represents the comparison between 597 random cities. It analyzes latitude and the maximum temperature in fahrenheit for these cities."
   ]
  },
  {
   "cell_type": "markdown",
   "metadata": {},
   "source": [
    "## Latitude vs. Humidity Plot"
   ]
  },
  {
   "cell_type": "code",
   "execution_count": 81,
   "metadata": {},
   "outputs": [
    {
     "data": {
      "image/png": "[encoded data removed]",
      "text/plain": [
       "<Figure size 432x288 with 1 Axes>"
      ]
     },
     "metadata": {
      "needs_background": "light"
     },
     "output_type": "display_data"
    }
   ],
   "source": [
    "plt.scatter(weather_df[\"Lat\"], weather_df[\"Humidity\"], color = \"blue\", edgecolor = \"black\")\n",
    "plt.title(\"City Latitude vs. Humidity (11/29/21)\")\n",
    "plt.xlabel(\"Latitude\")\n",
    "plt.ylabel(\"Humidity (%)\")\n",
    "plt.grid(linestyle='-', linewidth=2, alpha=0.5)\n",
    "\n",
    "plt.savefig(\"../output_data/City_Latitude_vs_Humidity.png\")"
   ]
  },
  {
   "cell_type": "markdown",
   "metadata": {},
   "source": [
    "This plot represents the comparison between 597 random cities. It analyzes latitude and the humidity percentage for these cities."
   ]
  },
  {
   "cell_type": "code",
   "execution_count": 66,
   "metadata": {},
   "outputs": [
    {
     "data": {
      "image/png": "[encoded data removed]",
      "text/plain": [
       "<Figure size 432x288 with 1 Axes>"
      ]
     },
     "metadata": {
      "needs_background": "light"
     },
     "output_type": "display_data"
    }
   ],
   "source": [
    "plt.scatter(weather_df[\"Lat\"], weather_df[\"Cloudiness\"], color = \"blue\", edgecolor = \"black\")\n",
    "\n",
    "plt.title(\"City Latitude vs. Cloudiness (11/29/21)\")\n",
    "plt.xlabel(\"Latitude\")\n",
    "plt.ylabel(\"Cloudiness (%)\")\n",
    "plt.grid(linestyle='-', linewidth=2, alpha=0.5)\n",
    "\n",
    "plt.savefig(\"../output_data/City_Latitude_vs_Cloudiness.png\")"
   ]
  },
  {
   "cell_type": "markdown",
   "metadata": {},
   "source": [
    "This plot represents the comparison between 597 random cities. It analyzes latitude and the cloudiness percentage for these cities."
   ]
  },
  {
   "cell_type": "markdown",
   "metadata": {},
   "source": [
    "## Latitude vs. Wind Speed Plot"
   ]
  },
  {
   "cell_type": "code",
   "execution_count": 67,
   "metadata": {},
   "outputs": [
    {
     "data": {
      "image/png": "[encoded data removed]",
      "text/plain": [
       "<Figure size 432x288 with 1 Axes>"
      ]
     },
     "metadata": {
      "needs_background": "light"
     },
     "output_type": "display_data"
    }
   ],
   "source": [
    "plt.scatter(weather_df[\"Lat\"], weather_df[\"Wind Speed\"], color = \"blue\", edgecolor = \"black\")\n",
    "\n",
    "plt.title(\"City Latitude vs. Wind Speed (11/29/21)\")\n",
    "plt.xlabel(\"Latitude\")\n",
    "plt.ylabel(\"Wind Speed (mph)\")\n",
    "plt.grid(linestyle='-', linewidth=2, alpha=0.5)\n",
    "\n",
    "plt.savefig(\"../output_data/City_Latitude_vs_WindSpeed.png\")"
   ]
  },
  {
   "cell_type": "markdown",
   "metadata": {},
   "source": [
    "This plot represents the comparison between 597 random cities. It analyzes latitude and the humidity wind speed in mph for these cities."
   ]
  },
  {
   "cell_type": "markdown",
   "metadata": {},
   "source": [
    "## Linear Regression"
   ]
  },
  {
   "cell_type": "code",
   "execution_count": 36,
   "metadata": {},
   "outputs": [],
   "source": [
    "northern_df = weather_df[weather_df['Lat'] >= 0]\n",
    "southern_df = weather_df[weather_df['Lat'] < 0]"
   ]
  },
  {
   "cell_type": "markdown",
   "metadata": {},
   "source": [
    "####  Northern Hemisphere - Max Temp vs. Latitude Linear Regression"
   ]
  },
  {
   "cell_type": "code",
   "execution_count": 68,
   "metadata": {},
   "outputs": [
    {
     "name": "stdout",
     "output_type": "stream",
     "text": [
      "The r-squared is: 0.7731601750798915\n"
     ]
    },
    {
     "data": {
      "image/png": "[encoded data removed]",
      "text/plain": [
       "<Figure size 432x288 with 1 Axes>"
      ]
     },
     "metadata": {
      "needs_background": "light"
     },
     "output_type": "display_data"
    },
    {
     "data": {
      "text/plain": [
       "<Figure size 432x288 with 0 Axes>"
      ]
     },
     "metadata": {},
     "output_type": "display_data"
    }
   ],
   "source": [
    "x_values = northern_df['Lat']\n",
    "y_values = northern_df['Max Temp']\n",
    "(slope, intercept, rvalue, pvalue, stderr) = linregress(x_values, y_values)\n",
    "regress_values = x_values * slope + intercept\n",
    "line_eq = \"y = \" + str(round(slope,2)) + \"x + \" + str(round(intercept,2))\n",
    "plt.scatter(x_values,y_values)\n",
    "plt.plot(x_values,regress_values,\"r-\")\n",
    "plt.annotate(line_eq,(0,50),fontsize=15,color=\"red\")\n",
    "plt.title(\"City Latitude vs. Max Temperature (11/29/21)\")\n",
    "plt.xlabel(\"Latitude\")\n",
    "plt.ylabel(\"Max Temperature (F)\")\n",
    "print(f\"The r-squared is: {rvalue**2}\")\n",
    "plt.show()\n",
    "\n",
    "plt.savefig(\"../output_data/City_Latitude_vs_MaxTemp_North.png\")"
   ]
  },
  {
   "cell_type": "markdown",
   "metadata": {},
   "source": [
    "####  Southern Hemisphere - Max Temp vs. Latitude Linear Regression"
   ]
  },
  {
   "cell_type": "code",
   "execution_count": 69,
   "metadata": {},
   "outputs": [
    {
     "name": "stdout",
     "output_type": "stream",
     "text": [
      "The r-squared is: 0.30319520657222987\n"
     ]
    },
    {
     "data": {
      "image/png": "[encoded data removed]",
      "text/plain": [
       "<Figure size 432x288 with 1 Axes>"
      ]
     },
     "metadata": {
      "needs_background": "light"
     },
     "output_type": "display_data"
    },
    {
     "data": {
      "text/plain": [
       "<Figure size 432x288 with 0 Axes>"
      ]
     },
     "metadata": {},
     "output_type": "display_data"
    }
   ],
   "source": [
    "x_values = southern_df['Lat']\n",
    "y_values = southern_df['Max Temp']\n",
    "(slope, intercept, rvalue, pvalue, stderr) = linregress(x_values, y_values)\n",
    "regress_values = x_values * slope + intercept\n",
    "line_eq = \"y = \" + str(round(slope,2)) + \"x + \" + str(round(intercept,2))\n",
    "plt.scatter(x_values,y_values)\n",
    "plt.plot(x_values,regress_values,\"r-\")\n",
    "plt.annotate(line_eq,(0,50),fontsize=15,color=\"red\")\n",
    "plt.title(\"City Latitude vs. Max Temperature (11/29/21)\")\n",
    "plt.xlabel(\"Latitude\")\n",
    "plt.ylabel(\"Max Temperature (F)\")\n",
    "print(f\"The r-squared is: {rvalue**2}\")\n",
    "plt.show()\n",
    "\n",
    "plt.savefig(\"../output_data/City_Latitude_vs_MaxTemp_South.png\")"
   ]
  },
  {
   "cell_type": "markdown",
   "metadata": {},
   "source": [
    "These plots represent the comparison between 597 random cities in the Northern and Southern hemispheres. In both plots you can see that as you get closer to the equator, the temperature rises."
   ]
  },
  {
   "cell_type": "markdown",
   "metadata": {},
   "source": [
    "####  Northern Hemisphere - Humidity (%) vs. Latitude Linear Regression"
   ]
  },
  {
   "cell_type": "code",
   "execution_count": 70,
   "metadata": {},
   "outputs": [
    {
     "name": "stdout",
     "output_type": "stream",
     "text": [
      "The r-squared is: 0.16095308672700312\n"
     ]
    },
    {
     "data": {
      "image/png": "[encoded data removed]",
      "text/plain": [
       "<Figure size 432x288 with 1 Axes>"
      ]
     },
     "metadata": {
      "needs_background": "light"
     },
     "output_type": "display_data"
    },
    {
     "data": {
      "text/plain": [
       "<Figure size 432x288 with 0 Axes>"
      ]
     },
     "metadata": {},
     "output_type": "display_data"
    }
   ],
   "source": [
    "x_values = northern_df['Lat']\n",
    "y_values = northern_df['Humidity']\n",
    "(slope, intercept, rvalue, pvalue, stderr) = linregress(x_values, y_values)\n",
    "regress_values = x_values * slope + intercept\n",
    "line_eq = \"y = \" + str(round(slope,2)) + \"x + \" + str(round(intercept,2))\n",
    "plt.scatter(x_values,y_values)\n",
    "plt.plot(x_values,regress_values,\"r-\")\n",
    "plt.annotate(line_eq,(0,50),fontsize=15,color=\"red\")\n",
    "plt.title(\"City Latitude vs. Max Temperature (11/29/21)\")\n",
    "plt.xlabel(\"Latitude\")\n",
    "plt.ylabel(\"Humidity (%)\")\n",
    "print(f\"The r-squared is: {rvalue**2}\")\n",
    "plt.show()\n",
    "\n",
    "plt.savefig(\"../output_data/City_Latitude_vs_Humidity_North.png\")"
   ]
  },
  {
   "cell_type": "markdown",
   "metadata": {},
   "source": [
    "####  Southern Hemisphere - Humidity (%) vs. Latitude Linear Regression"
   ]
  },
  {
   "cell_type": "code",
   "execution_count": 71,
   "metadata": {},
   "outputs": [
    {
     "name": "stdout",
     "output_type": "stream",
     "text": [
      "The r-squared is: 0.11969975541076978\n"
     ]
    },
    {
     "data": {
      "image/png": "[encoded data removed]",
      "text/plain": [
       "<Figure size 432x288 with 1 Axes>"
      ]
     },
     "metadata": {
      "needs_background": "light"
     },
     "output_type": "display_data"
    },
    {
     "data": {
      "text/plain": [
       "<Figure size 432x288 with 0 Axes>"
      ]
     },
     "metadata": {},
     "output_type": "display_data"
    }
   ],
   "source": [
    "x_values = southern_df['Lat']\n",
    "y_values = southern_df['Humidity']\n",
    "(slope, intercept, rvalue, pvalue, stderr) = linregress(x_values, y_values)\n",
    "regress_values = x_values * slope + intercept\n",
    "line_eq = \"y = \" + str(round(slope,2)) + \"x + \" + str(round(intercept,2))\n",
    "plt.scatter(x_values,y_values)\n",
    "plt.plot(x_values,regress_values,\"r-\")\n",
    "plt.annotate(line_eq,(0,50),fontsize=15,color=\"red\")\n",
    "plt.title(\"City Latitude vs. Max Temperature (11/29/21)\")\n",
    "plt.xlabel(\"Latitude\")\n",
    "plt.ylabel(\"Humidity (%)\")\n",
    "print(f\"The r-squared is: {rvalue**2}\")\n",
    "plt.show()\n",
    "\n",
    "plt.savefig(\"../output_data/City_Latitude_vs_Humidity_South.png\")"
   ]
  },
  {
   "cell_type": "markdown",
   "metadata": {},
   "source": [
    "These plots represent the comparison between 597 random cities in the Northern and Southern hemispheres. In both plots, you can see that there are many outliers that can lead to a hypothesis that distance to the equator might not affect the humidity."
   ]
  },
  {
   "cell_type": "markdown",
   "metadata": {},
   "source": [
    "####  Northern Hemisphere - Cloudiness (%) vs. Latitude Linear Regression"
   ]
  },
  {
   "cell_type": "code",
   "execution_count": 73,
   "metadata": {},
   "outputs": [
    {
     "name": "stdout",
     "output_type": "stream",
     "text": [
      "The r-squared is: 0.07892211307520643\n"
     ]
    },
    {
     "data": {
      "image/png": "[encoded data removed]",
      "text/plain": [
       "<Figure size 432x288 with 1 Axes>"
      ]
     },
     "metadata": {
      "needs_background": "light"
     },
     "output_type": "display_data"
    },
    {
     "data": {
      "text/plain": [
       "<Figure size 432x288 with 0 Axes>"
      ]
     },
     "metadata": {},
     "output_type": "display_data"
    }
   ],
   "source": [
    "x_values = northern_df['Lat']\n",
    "y_values = northern_df['Cloudiness']\n",
    "(slope, intercept, rvalue, pvalue, stderr) = linregress(x_values, y_values)\n",
    "regress_values = x_values * slope + intercept\n",
    "line_eq = \"y = \" + str(round(slope,2)) + \"x + \" + str(round(intercept,2))\n",
    "plt.scatter(x_values,y_values)\n",
    "plt.plot(x_values,regress_values,\"r-\")\n",
    "plt.annotate(line_eq,(0,50),fontsize=15,color=\"red\")\n",
    "plt.title(\"City Latitude vs. Cloudiness (11/29/21)\")\n",
    "plt.xlabel(\"Latitude\")\n",
    "plt.ylabel(\"Cloudiness (%)\")\n",
    "print(f\"The r-squared is: {rvalue**2}\")\n",
    "plt.show()\n",
    "\n",
    "plt.savefig(\"../output_data/City_Latitude_vs_Cloudiness_North.png\")"
   ]
  },
  {
   "cell_type": "markdown",
   "metadata": {},
   "source": [
    "####  Southern Hemisphere - Cloudiness (%) vs. Latitude Linear Regression"
   ]
  },
  {
   "cell_type": "code",
   "execution_count": 74,
   "metadata": {},
   "outputs": [
    {
     "name": "stdout",
     "output_type": "stream",
     "text": [
      "The r-squared is: 0.07759070119637917\n"
     ]
    },
    {
     "data": {
      "image/png": "[encoded data removed]",
      "text/plain": [
       "<Figure size 432x288 with 1 Axes>"
      ]
     },
     "metadata": {
      "needs_background": "light"
     },
     "output_type": "display_data"
    },
    {
     "data": {
      "text/plain": [
       "<Figure size 432x288 with 0 Axes>"
      ]
     },
     "metadata": {},
     "output_type": "display_data"
    }
   ],
   "source": [
    "x_values = southern_df['Lat']\n",
    "y_values = southern_df['Cloudiness']\n",
    "(slope, intercept, rvalue, pvalue, stderr) = linregress(x_values, y_values)\n",
    "regress_values = x_values * slope + intercept\n",
    "line_eq = \"y = \" + str(round(slope,2)) + \"x + \" + str(round(intercept,2))\n",
    "plt.scatter(x_values,y_values)\n",
    "plt.plot(x_values,regress_values,\"r-\")\n",
    "plt.annotate(line_eq,(0,50),fontsize=15,color=\"red\")\n",
    "plt.title(\"City Latitude vs. Cloudiness (11/29/21)\")\n",
    "plt.xlabel(\"Latitude\")\n",
    "plt.ylabel(\"Cloudiness (%)\")\n",
    "print(f\"The r-squared is: {rvalue**2}\")\n",
    "plt.show()\n",
    "\n",
    "plt.savefig(\"../output_data/City_Latitude_vs_Cloudiness_South.png\")"
   ]
  },
  {
   "cell_type": "markdown",
   "metadata": {},
   "source": [
    "These plots represent the comparison between 597 random cities in the Northern and Southern hemispheres. In both plots, you can see that there are many outliers that can lead to a hypothesis that distance to the equator might not affect the cloudiness."
   ]
  },
  {
   "cell_type": "markdown",
   "metadata": {},
   "source": [
    "####  Northern Hemisphere - Wind Speed (mph) vs. Latitude Linear Regression"
   ]
  },
  {
   "cell_type": "code",
   "execution_count": 75,
   "metadata": {},
   "outputs": [
    {
     "name": "stdout",
     "output_type": "stream",
     "text": [
      "The r-squared is: 0.021215180441687142\n"
     ]
    },
    {
     "data": {
      "image/png": "[encoded data removed]",
      "text/plain": [
       "<Figure size 432x288 with 1 Axes>"
      ]
     },
     "metadata": {
      "needs_background": "light"
     },
     "output_type": "display_data"
    },
    {
     "data": {
      "text/plain": [
       "<Figure size 432x288 with 0 Axes>"
      ]
     },
     "metadata": {},
     "output_type": "display_data"
    }
   ],
   "source": [
    "x_values = northern_df['Lat']\n",
    "y_values = northern_df['Wind Speed']\n",
    "(slope, intercept, rvalue, pvalue, stderr) = linregress(x_values, y_values)\n",
    "regress_values = x_values * slope + intercept\n",
    "line_eq = \"y = \" + str(round(slope,2)) + \"x + \" + str(round(intercept,2))\n",
    "plt.scatter(x_values,y_values)\n",
    "plt.plot(x_values,regress_values,\"r-\")\n",
    "plt.annotate(line_eq,(0,50),fontsize=15,color=\"red\")\n",
    "plt.title(\"City Latitude vs. Wind Speed (11/29/21)\")\n",
    "plt.xlabel(\"Latitude\")\n",
    "plt.ylabel(\"Wind Speed (mph)\")\n",
    "print(f\"The r-squared is: {rvalue**2}\")\n",
    "plt.show()\n",
    "\n",
    "plt.savefig(\"../output_data/City_Latitude_vs_WindSpeed_North.png\")"
   ]
  },
  {
   "cell_type": "markdown",
   "metadata": {},
   "source": [
    "####  Southern Hemisphere - Wind Speed (mph) vs. Latitude Linear Regression"
   ]
  },
  {
   "cell_type": "code",
   "execution_count": 76,
   "metadata": {},
   "outputs": [
    {
     "name": "stdout",
     "output_type": "stream",
     "text": [
      "The r-squared is: 0.06960188712744826\n"
     ]
    },
    {
     "data": {
      "image/png": "[encoded data removed]",
      "text/plain": [
       "<Figure size 432x288 with 1 Axes>"
      ]
     },
     "metadata": {
      "needs_background": "light"
     },
     "output_type": "display_data"
    },
    {
     "data": {
      "text/plain": [
       "<Figure size 432x288 with 0 Axes>"
      ]
     },
     "metadata": {},
     "output_type": "display_data"
    }
   ],
   "source": [
    "x_values = southern_df['Lat']\n",
    "y_values = southern_df['Wind Speed']\n",
    "(slope, intercept, rvalue, pvalue, stderr) = linregress(x_values, y_values)\n",
    "regress_values = x_values * slope + intercept\n",
    "line_eq = \"y = \" + str(round(slope,2)) + \"x + \" + str(round(intercept,2))\n",
    "plt.scatter(x_values,y_values)\n",
    "plt.plot(x_values,regress_values,\"r-\")\n",
    "plt.annotate(line_eq,(0,50),fontsize=15,color=\"red\")\n",
    "plt.title(\"City Latitude vs. Wind Speed (11/29/21)\")\n",
    "plt.xlabel(\"Latitude\")\n",
    "plt.ylabel(\"Wind Speed (mph)\")\n",
    "print(f\"The r-squared is: {rvalue**2}\")\n",
    "plt.show()\n",
    "\n",
    "plt.savefig(\"../output_data/City_Latitude_vs_WindSpeed_South.png\")"
   ]
  },
  {
   "cell_type": "markdown",
   "metadata": {},
   "source": [
    "These plots represent the comparison between 597 random cities in the Northern and Southern hemispheres. In both plots you can see that as you get closer to the equator, the wind speeds slow down."
   ]
  }
 ],
 "metadata": {
  "anaconda-cloud": {},
  "kernel_info": {
   "name": "python3"
  },
  "kernelspec": {
   "display_name": "Python 3",
   "language": "python",
   "name": "python3"
  },
  "language_info": {
   "codemirror_mode": {
    "name": "ipython",
    "version": 3
   },
   "file_extension": ".py",
   "mimetype": "text/x-python",
   "name": "python",
   "nbconvert_exporter": "python",
   "pygments_lexer": "ipython3",
   "version": "3.8.8"
  },
  "latex_envs": {
   "LaTeX_envs_menu_present": true,
   "autoclose": false,
   "autocomplete": true,
   "bibliofile": "biblio.bib",
   "cite_by": "apalike",
   "current_citInitial": 1,
   "eqLabelWithNumbers": true,
   "eqNumInitial": 1,
   "hotkeys": {
    "equation": "Ctrl-E",
    "itemize": "Ctrl-I"
   },
   "labels_anchors": false,
   "latex_user_defs": false,
   "report_style_numbering": false,
   "user_envs_cfg": false
  },
  "nteract": {
   "version": "0.12.3"
  }
 },
 "nbformat": 4,
 "nbformat_minor": 4
}
